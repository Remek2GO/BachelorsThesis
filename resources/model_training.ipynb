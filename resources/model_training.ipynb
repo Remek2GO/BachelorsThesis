{
 "cells": [
  {
   "cell_type": "markdown",
   "metadata": {
    "id": "nrAY7enGD2q_"
   },
   "source": [
    "# YOLO Algorithm Script for Training"
   ]
  },
  {
   "cell_type": "markdown",
   "metadata": {},
   "source": [
    "Importing libraries"
   ]
  },
  {
   "cell_type": "code",
   "execution_count": null,
   "metadata": {
    "id": "w5NFNk8fEpEC"
   },
   "outputs": [],
   "source": [
    "!nvidia-smi"
   ]
  },
  {
   "cell_type": "code",
   "execution_count": null,
   "metadata": {
    "id": "2oU69hj3Erxf"
   },
   "outputs": [],
   "source": [
    "!pip install ultralytics"
   ]
  },
  {
   "cell_type": "code",
   "execution_count": null,
   "metadata": {
    "id": "z5c4xF60E5Ft"
   },
   "outputs": [],
   "source": [
    "from ultralytics import YOLO\n",
    "import os\n",
    "from IPython.display import display, Image\n",
    "from IPython import display\n",
    "display.clear_output()\n",
    "!yolo checks\n"
   ]
  },
  {
   "cell_type": "markdown",
   "metadata": {
    "id": "lwoqhVhxIOyS"
   },
   "source": [
    "Import Dataset from Roboflow"
   ]
  },
  {
   "cell_type": "code",
   "execution_count": null,
   "metadata": {
    "id": "ZlDZ4bD2D0jm"
   },
   "outputs": [],
   "source": [
    "!pip install roboflow\n",
    "\n",
    "from roboflow import Roboflow\n",
    "rf = Roboflow(api_key=\"GcTZvEvelkN5IBuDY3FG\")\n",
    "project = rf.workspace(\"systemy-wizyjne\").project(\"bazant_v1\")\n",
    "version = project.version(2)\n",
    "dataset = version.download(\"yolov8\")"
   ]
  },
  {
   "cell_type": "markdown",
   "metadata": {
    "id": "EjHBqYy7ICPX"
   },
   "source": [
    "Train the model - choose size of the model"
   ]
  },
  {
   "cell_type": "code",
   "execution_count": null,
   "metadata": {
    "id": "VV6rJ21RITp7"
   },
   "outputs": [],
   "source": [
    "print(dataset.location )\n",
    "!yolo task=detect mode=train model=yolov8n.pt data={dataset.location}/data.yaml epochs=150 imgsz=640"
   ]
  },
  {
   "cell_type": "markdown",
   "metadata": {},
   "source": [
    "Visualize training matrixes"
   ]
  },
  {
   "cell_type": "code",
   "execution_count": null,
   "metadata": {
    "id": "qB14SwYxa199"
   },
   "outputs": [],
   "source": [
    "Image(filename=f'/content/runs/detect/train/confusion_matrix.png', width=600)\n",
    "Image(filename=f'/content/runs/detect/train/results.png', width=600)"
   ]
  },
  {
   "cell_type": "markdown",
   "metadata": {},
   "source": [
    "Train the model on valid datatset"
   ]
  },
  {
   "cell_type": "code",
   "execution_count": null,
   "metadata": {
    "id": "rR5MCm3zba-X"
   },
   "outputs": [],
   "source": [
    "!yolo task=detect mode=val model=/content/runs/detect/train/weights/best.pt data={dataset.location}/data.yaml"
   ]
  },
  {
   "cell_type": "markdown",
   "metadata": {},
   "source": [
    "Predict on test dataset"
   ]
  },
  {
   "cell_type": "code",
   "execution_count": null,
   "metadata": {
    "id": "1qvCFLrJbj1o"
   },
   "outputs": [],
   "source": [
    "!yolo task=detect mode=predict model=/content/runs/detect/train3/weights/best.pt conf=0.5 source={dataset.location}/test/images"
   ]
  },
  {
   "cell_type": "markdown",
   "metadata": {},
   "source": [
    "Visualize predictions "
   ]
  },
  {
   "cell_type": "code",
   "execution_count": null,
   "metadata": {
    "id": "t_6p6ILfeAMI"
   },
   "outputs": [],
   "source": [
    "import glob\n",
    "from IPython.display import Image, display\n",
    "\n",
    "for image_path in glob.glob(f'/content/runs/detect/predict/*.jpg'):\n",
    "  display(Image(filename=image_path, height=600))\n",
    "  print(\"\\n\")"
   ]
  }
 ],
 "metadata": {
  "accelerator": "GPU",
  "colab": {
   "authorship_tag": "ABX9TyPuco3XZOv9jEBdTUsQUSgH",
   "gpuType": "T4",
   "mount_file_id": "1W7f_WH4owiCwRxa7I9rZVlunb_Td2xRK",
   "provenance": []
  },
  "kernelspec": {
   "display_name": "Python 3",
   "name": "python3"
  },
  "language_info": {
   "name": "python"
  }
 },
 "nbformat": 4,
 "nbformat_minor": 0
}
